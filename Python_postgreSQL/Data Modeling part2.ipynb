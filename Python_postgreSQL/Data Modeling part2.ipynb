{
 "cells": [
  {
   "cell_type": "code",
   "execution_count": null,
   "id": "f29d461a",
   "metadata": {},
   "outputs": [],
   "source": [
    "import psycopg2\n",
    "import pandas as pd"
   ]
  },
  {
   "cell_type": "code",
   "execution_count": 20,
   "id": "3cd92e49",
   "metadata": {},
   "outputs": [],
   "source": [
    "def create_database():\n",
    "    #connecting to exisiting database\n",
    "    conn=psycopg2.connect(\"host=localhost dbname=postgres user=postgres password=123456\")\n",
    "    cur=conn.cursor()\n",
    "    conn.set_session(autocommit=True)\n",
    "    \n",
    "    cur.execute(\"drop DATABASE amazon_eco\") \n",
    "    cur.execute(\"CREATE DATABASE  amazon_eco\") # creating the database amazon_ecommerce\n",
    "    \n",
    "    #close default database connection\n",
    "    conn.close()\n",
    "    \n",
    "    # connecting to new database\n",
    "    conn=psycopg2.connect(\"host=localhost dbname=amazon_eco user=postgres password=123456\")\n",
    "    cur=conn.cursor()\n",
    "    conn.set_session(autocommit=True)\n",
    "    return cur,conn"
   ]
  },
  {
   "cell_type": "code",
   "execution_count": null,
   "id": "2be253b7",
   "metadata": {},
   "outputs": [],
   "source": [
    "ecom_df=pd.read_csv(r\"C:\\Users\\Krishna\\OneDrive\\Desktop\\python\\SQL\\amazon_co-ecommerce_sample.csv\")"
   ]
  },
  {
   "cell_type": "code",
   "execution_count": null,
   "id": "b0585d9b",
   "metadata": {},
   "outputs": [],
   "source": [
    "ecom_df.columns"
   ]
  },
  {
   "cell_type": "code",
   "execution_count": null,
   "id": "a40dee4b",
   "metadata": {},
   "outputs": [],
   "source": [
    "clean_ecom= ecom_df[['product_name','price', 'customer_reviews','average_review_rating']]"
   ]
  },
  {
   "cell_type": "code",
   "execution_count": null,
   "id": "182fece8",
   "metadata": {},
   "outputs": [],
   "source": [
    "clean_ecom.head()"
   ]
  },
  {
   "cell_type": "code",
   "execution_count": null,
   "id": "3737fdf8",
   "metadata": {},
   "outputs": [],
   "source": [
    "# conn.close()\n",
    "# cur.close()"
   ]
  },
  {
   "cell_type": "code",
   "execution_count": null,
   "id": "f9b50429",
   "metadata": {
    "scrolled": true
   },
   "outputs": [],
   "source": [
    "cur,conn=create_database()"
   ]
  },
  {
   "cell_type": "code",
   "execution_count": null,
   "id": "434a4403",
   "metadata": {},
   "outputs": [],
   "source": [
    "clean_ecom.shape"
   ]
  },
  {
   "cell_type": "code",
   "execution_count": null,
   "id": "d0eb7c69",
   "metadata": {},
   "outputs": [],
   "source": [
    "create_table_amazon_ecommerce=(\"\"\"CREATE TABLE IF NOT EXISTS amazon_ecommerce\n",
    "(\n",
    "product_name varchar,\n",
    "price varchar,\n",
    "customer_reviews varchar,\n",
    "average_review_rating varchar)\"\"\")"
   ]
  },
  {
   "cell_type": "code",
   "execution_count": null,
   "id": "d3666913",
   "metadata": {},
   "outputs": [],
   "source": [
    "try:\n",
    "    cur.execute(create_table_amazon_ecommerce)\n",
    "    conn.commit()\n",
    "except psycopg2.Error as e:\n",
    "    print(\"Error: creating table\")\n",
    "    print(e)"
   ]
  },
  {
   "cell_type": "code",
   "execution_count": null,
   "id": "76f0911d",
   "metadata": {},
   "outputs": [],
   "source": [
    "insert_amazon_ecommerce=(\"\"\"INSERT INTO amazon_ecommerce(\n",
    "                                            product_name,\n",
    "                                            price,\n",
    "                                            customer_reviews,\n",
    "                                            average_review_rating)\n",
    "                                            VALUES (%s,%s,%s,%s,%s)\"\"\")"
   ]
  },
  {
   "cell_type": "code",
   "execution_count": null,
   "id": "4927573c",
   "metadata": {},
   "outputs": [],
   "source": [
    "\n",
    "for i,rows in  clean_ecom.iterrows():\n",
    "    cur.execute(insert_amazon_ecommerce,list(rows))"
   ]
  },
  {
   "cell_type": "code",
   "execution_count": null,
   "id": "378daaea",
   "metadata": {},
   "outputs": [],
   "source": []
  },
  {
   "cell_type": "code",
   "execution_count": null,
   "id": "5310e425",
   "metadata": {},
   "outputs": [],
   "source": []
  }
 ],
 "metadata": {
  "kernelspec": {
   "display_name": "Python 3 (ipykernel)",
   "language": "python",
   "name": "python3"
  },
  "language_info": {
   "codemirror_mode": {
    "name": "ipython",
    "version": 3
   },
   "file_extension": ".py",
   "mimetype": "text/x-python",
   "name": "python",
   "nbconvert_exporter": "python",
   "pygments_lexer": "ipython3",
   "version": "3.10.5"
  }
 },
 "nbformat": 4,
 "nbformat_minor": 5
}
