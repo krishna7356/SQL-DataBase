{
 "cells": [
  {
   "cell_type": "code",
   "execution_count": 1,
   "id": "1d946ebd",
   "metadata": {},
   "outputs": [
    {
     "name": "stdout",
     "output_type": "stream",
     "text": [
      "Collecting psycopg2\n",
      "  Downloading psycopg2-2.9.5-cp310-cp310-win_amd64.whl (1.2 MB)\n",
      "     ---------------------------------------- 1.2/1.2 MB 5.0 MB/s eta 0:00:00\n",
      "Installing collected packages: psycopg2\n",
      "Successfully installed psycopg2-2.9.5\n"
     ]
    }
   ],
   "source": [
    "!pip install psycopg2"
   ]
  },
  {
   "cell_type": "markdown",
   "id": "cf2c6b17",
   "metadata": {},
   "source": [
    "## import library"
   ]
  },
  {
   "cell_type": "code",
   "execution_count": 2,
   "id": "0935f82b",
   "metadata": {},
   "outputs": [],
   "source": [
    "import psycopg2"
   ]
  },
  {
   "cell_type": "markdown",
   "id": "13da0cb9",
   "metadata": {},
   "source": [
    "### Create Database Connection"
   ]
  },
  {
   "cell_type": "code",
   "execution_count": 5,
   "id": "0571cb9e",
   "metadata": {},
   "outputs": [],
   "source": [
    "try:\n",
    "    conn =psycopg2.connect(\"host =localhost dbname=postgres user=postgres password=123456\")\n",
    "except psycopg2.Error as e:\n",
    "    print(\"Errror: data base connection could not connect....\")\n",
    "    print(e)\n",
    "    \n",
    "                           "
   ]
  },
  {
   "cell_type": "markdown",
   "id": "e55e0c50",
   "metadata": {},
   "source": [
    "### use the connection to get a cursor that use to execute queries"
   ]
  },
  {
   "cell_type": "code",
   "execution_count": 6,
   "id": "c8e0dc17",
   "metadata": {},
   "outputs": [],
   "source": [
    "try:\n",
    "    cur=conn.cursor()\n",
    "except psycopg2.Error as e:\n",
    "    print(\"Error: cursor connection problem..\")\n",
    "    print(e)"
   ]
  },
  {
   "cell_type": "markdown",
   "id": "9c9d6d4c",
   "metadata": {},
   "source": [
    "### Set Automatic commit True"
   ]
  },
  {
   "cell_type": "code",
   "execution_count": 7,
   "id": "a3e21631",
   "metadata": {},
   "outputs": [],
   "source": [
    "conn.set_session(autocommit= True)"
   ]
  },
  {
   "cell_type": "markdown",
   "id": "6075ba69",
   "metadata": {},
   "source": [
    "### Create a Database to work"
   ]
  },
  {
   "cell_type": "code",
   "execution_count": 8,
   "id": "77c7f834",
   "metadata": {},
   "outputs": [],
   "source": [
    "try:\n",
    "    cur.execute(\"CREATE DATABASE Testdb\")\n",
    "except psycopg2.Error as e:\n",
    "    print(\"Error: Data base creation error please check the querie\")\n",
    "    print(e)"
   ]
  },
  {
   "cell_type": "markdown",
   "id": "3f2884e5",
   "metadata": {},
   "source": [
    "### Add the New database created"
   ]
  },
  {
   "cell_type": "code",
   "execution_count": 10,
   "id": "9da96e1e",
   "metadata": {},
   "outputs": [],
   "source": [
    "# Closeing the existing database connection\n",
    "try:\n",
    "    cur.close()\n",
    "except psycopg2.Error as e:\n",
    "    print(e)\n",
    "# Connecting to the new Database Testdb\n",
    "try:\n",
    "    conn =psycopg2.connect(\"host =localhost dbname=testdb user=postgres password=123456\")\n",
    "except psycopg2.Error as e:\n",
    "    print(\"Errror: data base connection could not connect....\")\n",
    "    print(e)\n",
    "# Connecting Cursor to execute the queries\n",
    "try:\n",
    "    cur=conn.cursor()\n",
    "except psycopg2.Error as e:\n",
    "    print(\"Error: cursor connection problem..\")\n",
    "    print(e)\n",
    "# Autocommiting enable as True\n",
    "conn.set_session(autocommit= True)"
   ]
  },
  {
   "cell_type": "markdown",
   "id": "74e63f15",
   "metadata": {},
   "source": [
    "### Creat table for peopele details\n",
    "* No\n",
    "* Name\n",
    "* Age\n",
    "* Address"
   ]
  },
  {
   "cell_type": "code",
   "execution_count": 11,
   "id": "384b1a17",
   "metadata": {},
   "outputs": [],
   "source": [
    "try:\n",
    "    cur.execute(\"CREATE TABLE IF NOT EXISTS People_Details (No int,Name varchar,Age int,Address varchar);\")\n",
    "except psycopg2.Error as e:\n",
    "    print(\"Error: Table creation Error....\")\n",
    "    print(e)"
   ]
  },
  {
   "cell_type": "markdown",
   "id": "38f1c2af",
   "metadata": {},
   "source": [
    "### Inserting Data into Table"
   ]
  },
  {
   "cell_type": "code",
   "execution_count": 13,
   "id": "2c29079d",
   "metadata": {},
   "outputs": [],
   "source": [
    "try:\n",
    "    cur.execute(\"INSERT INTO People_Details(NO,Name,Age,Address)\\\n",
    "                VALUES(%s,%s,%s,%s)\",\n",
    "                (1,\"manu\",23,\"godown vila\"))\n",
    "except psycopg2.Error as e:\n",
    "                print(\"Error: inserting rows\")\n",
    "                print(e)\n",
    "try:\n",
    "    cur.execute(\"INSERT INTO People_Details(NO,Name,Age,Address)\\\n",
    "                VALUES(%s,%s,%s,%s)\",\n",
    "                (1,\"ram\",22,\"manchestor twon\"))\n",
    "except psycopg2.Error as e:\n",
    "                print(\"Error: inserting rows\")\n",
    "                print(e)"
   ]
  },
  {
   "cell_type": "markdown",
   "id": "a440f19e",
   "metadata": {},
   "source": [
    "### Validate data inserted to the table"
   ]
  },
  {
   "cell_type": "code",
   "execution_count": 14,
   "id": "69d059d0",
   "metadata": {},
   "outputs": [
    {
     "name": "stdout",
     "output_type": "stream",
     "text": [
      "(1, 'manu', 23, 'godown vila')\n",
      "(1, 'ram', 22, 'manchestor twon')\n"
     ]
    }
   ],
   "source": [
    "try:\n",
    "    cur.execute(\"SELECT * FROM People_Details\")   # selecting all datas from the table using queries\n",
    "except psycopg2.Error as e :\n",
    "    print(\"Error: data Select* \")\n",
    "\n",
    "row =cur.fetchone()                             # fetching each row from the table\n",
    "while row:\n",
    "    print(row)\n",
    "    row=cur.fetchone()"
   ]
  },
  {
   "cell_type": "markdown",
   "id": "234ad9d9",
   "metadata": {},
   "source": [
    "### Finally closing the cursor and database connecton"
   ]
  },
  {
   "cell_type": "code",
   "execution_count": 16,
   "id": "9c61125e",
   "metadata": {},
   "outputs": [],
   "source": [
    "cur.close()\n",
    "conn.close()"
   ]
  },
  {
   "cell_type": "code",
   "execution_count": null,
   "id": "b37be691",
   "metadata": {},
   "outputs": [],
   "source": []
  }
 ],
 "metadata": {
  "kernelspec": {
   "display_name": "Python 3 (ipykernel)",
   "language": "python",
   "name": "python3"
  },
  "language_info": {
   "codemirror_mode": {
    "name": "ipython",
    "version": 3
   },
   "file_extension": ".py",
   "mimetype": "text/x-python",
   "name": "python",
   "nbconvert_exporter": "python",
   "pygments_lexer": "ipython3",
   "version": "3.10.5"
  },
  "vscode": {
   "interpreter": {
    "hash": "22a49e0ee0814321ded3ac19aada82c3cd011c5600f00e71fb0640a2a9279083"
   }
  }
 },
 "nbformat": 4,
 "nbformat_minor": 5
}
